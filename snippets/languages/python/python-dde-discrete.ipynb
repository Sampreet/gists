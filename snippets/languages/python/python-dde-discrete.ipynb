{
 "metadata": {
  "language_info": {
   "codemirror_mode": {
    "name": "ipython",
    "version": 3
   },
   "file_extension": ".py",
   "mimetype": "text/x-python",
   "name": "python",
   "nbconvert_exporter": "python",
   "pygments_lexer": "ipython3",
   "version": "3.8.5"
  },
  "orig_nbformat": 2,
  "kernelspec": {
   "name": "python385jvsc74a57bd0b3ba2566441a7c06988d0923437866b63cedc61552a5af99d1f4fb67d367b25f",
   "display_name": "Python 3.8.5 64-bit ('base': conda)"
  }
 },
 "nbformat": 4,
 "nbformat_minor": 2,
 "cells": [
  {
   "source": [
    "# Solving Discrete Delay Differential Equations with Python"
   ],
   "cell_type": "markdown",
   "metadata": {}
  },
  {
   "source": [
    "We solve a discrete Delay Differential Equation (DDE) of the form\n",
    "\n",
    "\\begin{align}\n",
    "    \\dot{x} & = f(t, x(t)) = a ~ x(t) + b\n",
    "    \\dot{y} & = g(t, x(t), x(t - \\tau)) = c ~ x(t) + d ~ x(t - \\tau)\n",
    "\\end{align}\n",
    "\n",
    "A simple implemention is solving the IVP solutions based on stored results using the "
   ],
   "cell_type": "markdown",
   "metadata": {}
  },
  {
   "source": [
    "## Dependencies\n",
    "\n",
    "We import the `integrate` sub-package from `scipy` which solves initial value problems.\n",
    "\n",
    "\\begin{align}\n",
    "\\dot{x} & = \\sigma(y-x) \\\\\n",
    "\\dot{y} & = \\rho x - y - xz \\\\\n",
    "\\dot{z} & = -\\beta z + xy\n",
    "\\end{align}"
   ],
   "cell_type": "markdown",
   "metadata": {}
  },
  {
   "cell_type": "code",
   "execution_count": null,
   "metadata": {},
   "outputs": [],
   "source": []
  }
 ]
}